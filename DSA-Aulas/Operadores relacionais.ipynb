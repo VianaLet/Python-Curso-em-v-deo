{
 "cells": [
  {
   "cell_type": "code",
   "execution_count": 2,
   "metadata": {},
   "outputs": [
    {
     "name": "stdout",
     "output_type": "stream",
     "text": [
      "Tudo funciona\n"
     ]
    }
   ],
   "source": [
    "if 4> 3:  #  Se quatro é maior que três\n",
    "    print('Tudo funciona')  # Imprima 'Tudo funciona'"
   ]
  },
  {
   "cell_type": "code",
   "execution_count": 4,
   "metadata": {},
   "outputs": [
    {
     "name": "stdout",
     "output_type": "stream",
     "text": [
      "3 é menor que 4\n"
     ]
    }
   ],
   "source": [
    "if 4 <  3: # Se quatro é menor que três\n",
    "    print('Quatro é menor que três')\n",
    "else:\n",
    "    print('3 é menor que 4')"
   ]
  },
  {
   "cell_type": "code",
   "execution_count": 6,
   "metadata": {},
   "outputs": [
    {
     "name": "stdout",
     "output_type": "stream",
     "text": [
      "Quatro é maior ou igual a quatro\n"
     ]
    }
   ],
   "source": [
    "if 4 >= 4:\n",
    "    print('Quatro é maior ou igual a quatro')"
   ]
  },
  {
   "cell_type": "code",
   "execution_count": 7,
   "metadata": {},
   "outputs": [
    {
     "name": "stdout",
     "output_type": "stream",
     "text": [
      "é falso\n"
     ]
    }
   ],
   "source": [
    "if 6<= 7: # 6 é menor ou igual a 7\n",
    "    print('é verdadeiro')"
   ]
  }
 ],
 "metadata": {
  "kernelspec": {
   "display_name": "Python 3",
   "language": "python",
   "name": "python3"
  },
  "language_info": {
   "codemirror_mode": {
    "name": "ipython",
    "version": 3
   },
   "file_extension": ".py",
   "mimetype": "text/x-python",
   "name": "python",
   "nbconvert_exporter": "python",
   "pygments_lexer": "ipython3",
   "version": "3.11.4"
  }
 },
 "nbformat": 4,
 "nbformat_minor": 2
}
