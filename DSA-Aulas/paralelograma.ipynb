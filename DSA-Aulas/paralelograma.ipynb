{
 "cells": [
  {
   "cell_type": "markdown",
   "metadata": {},
   "source": [
    "# Calcular a Área de um Paralelograma\n",
    "\n",
    "Um paralelograma é um quadilátero com lados opostos paralelos(e portanto com ângulos opostos iguais). Um quadrilátero com lados iguais é chamado de losango e um paralelogramo cujo ângulos são todos ângulos retos chamados de retângulo\n",
    "\n",
    "### Etapas\n",
    " 1. Exiba \"Bem vindo ao calculador de área de paralelogramo\"\n",
    " 2. Peça para o usuário inserir o comprimento da base\n",
    " 3. Armazene o comprimento da base em uma variável\n",
    " 4. Peça ao usuário inserir a altura\n",
    " 5. Armazene a altura em uma variável\n",
    " 6. Calcule a área do paralelogramo: base * altura\n",
    " 8. Armazene o resultado em uma variável\n",
    " 9. Exiba o resultado"
   ]
  },
  {
   "cell_type": "code",
   "execution_count": 1,
   "metadata": {},
   "outputs": [
    {
     "name": "stdout",
     "output_type": "stream",
     "text": [
      "Bem vind@ ao calculador de àrea de paralelogramo\n",
      "A àrea do paralelogramo é 8.0\n"
     ]
    }
   ],
   "source": [
    "print(\"Bem vind@ ao calculador de àrea de paralelogramo\")\n",
    "base = float(input(\"informe o comprimento da base do paralelogramo: \"))\n",
    "altura = float(input(\"Informe a altura do paralelogramo: \"))\n",
    "area = base * altura\n",
    "print(f\"A àrea do paralelogramo é {area}\")"
   ]
  },
  {
   "cell_type": "markdown",
   "metadata": {},
   "source": [
    "# Calculadora Simples\n",
    "\n",
    "Crie uma calculadora simples que faça as operações de + - * e /\n",
    "\n",
    "### Etapas\n",
    "1. Exiba \"Bem-vindo à calculadora\"\n",
    "2. Peça ao usuário inserir o primeiro número\n",
    "3. Peça o tipo de operação para o usuário\n",
    "4. Peça ao usuário inserir o segundo número\n",
    "5. Faça a operação\n",
    "6. Exiba o resultado\n"
   ]
  },
  {
   "cell_type": "code",
   "execution_count": 16,
   "metadata": {},
   "outputs": [
    {
     "name": "stdout",
     "output_type": "stream",
     "text": [
      "Bem vind@ à Calculadora\n",
      "O resultado da operação é : 2.0\n",
      "5.0 3.0\n"
     ]
    }
   ],
   "source": [
    "print(\"Bem vind@ à Calculadora\")\n",
    "n1 = float(input(\"Digite o primeiro número: \"))\n",
    "n2= float(input(\"Digite o segundo número: \"))\n",
    "operação =input(\"Informe a operação desejada: 1- Soma 2- Subtração 3- Divisão 4- Multiplicação \")\n",
    "    \n",
    "if (operação == \"1\") :\n",
    "    operação = n1 + n2\n",
    "    \n",
    "elif (operação == \"2\") :\n",
    "    operação = n1 - n2\n",
    "    \n",
    "elif (operação == \"3\" and n2 !=0) :\n",
    "    operação = n1 / n2\n",
    "\n",
    "elif (operação == \"4\") :\n",
    "    operação = n1 * n2\n",
    "    \n",
    "else:\n",
    "    print(\"Operação inválida\")\n",
    "print(f\"O resultado da operação é : {operação}\")\n",
    "print (n1, n2)\n"
   ]
  },
  {
   "cell_type": "markdown",
   "metadata": {},
   "source": [
    "# Algoritmo Bubble Sort\n",
    "\n",
    "Bubble Sort é um algoritmo de ordenação simples que funciona cada elemento com o próximo, e trocando-os de lugar se eles estiverem em ordem incorreta. O algoritmo repete esse processo várias vezes, até que todos os elementos estejam ordenados. A cada passagem, o maios elemento \"flutua\" para o final do array, como uma bolha, dando origem ao nome do algoritmo.\n",
    "### Etapas \n",
    "1. Para cada elemento i no array tamanho n\n",
    "2. Para cada elemento j no array de tamanho n-1\n",
    "3. Se elemento i for maior que elemento j\n",
    "    Troque os elementos i e j\n"
   ]
  },
  {
   "cell_type": "code",
   "execution_count": 32,
   "metadata": {},
   "outputs": [],
   "source": [
    "\n",
    "def bubble_sort(arr): # Criando a função para reutilizar esse trecho de código mais vezes\n",
    "    n = len(arr)\n",
    "    for i in range(n):      #Um loop para fazer o ordenamento\n",
    "        for j in range(0, n-i-1):\n",
    "            if (arr[j] > arr[j+1]):  # Aqui pegando o índice de cada elemento na lista para compara-lo com o próximo elemento\n",
    "                print(arr[j], arr[j+1])\n",
    "                arr[j], arr[j+1] = arr[j+1], arr[j]\n",
    "    return arr\n"
   ]
  },
  {
   "cell_type": "code",
   "execution_count": 33,
   "metadata": {},
   "outputs": [
    {
     "name": "stdout",
     "output_type": "stream",
     "text": [
      "6 3\n",
      "12 7\n",
      "[3, 6, 7, 12]\n"
     ]
    }
   ],
   "source": [
    "lista = [6, 3, 12 , 7]\n",
    "\n",
    "print(bubble_sort(lista))"
   ]
  }
 ],
 "metadata": {
  "kernelspec": {
   "display_name": "Python 3",
   "language": "python",
   "name": "python3"
  },
  "language_info": {
   "codemirror_mode": {
    "name": "ipython",
    "version": 3
   },
   "file_extension": ".py",
   "mimetype": "text/x-python",
   "name": "python",
   "nbconvert_exporter": "python",
   "pygments_lexer": "ipython3",
   "version": "3.11.4"
  }
 },
 "nbformat": 4,
 "nbformat_minor": 2
}
