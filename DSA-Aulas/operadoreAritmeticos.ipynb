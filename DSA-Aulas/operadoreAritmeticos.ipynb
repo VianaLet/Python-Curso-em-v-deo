{
 "cells": [
  {
   "cell_type": "code",
   "execution_count": 11,
   "metadata": {},
   "outputs": [
    {
     "data": {
      "text/plain": [
       "12"
      ]
     },
     "execution_count": 11,
     "metadata": {},
     "output_type": "execute_result"
    }
   ],
   "source": [
    "# Soma\n",
    "6 + 2\n",
    "# Saída: 8\n",
    "\n",
    "# Subtração\n",
    "6 - 2\n",
    "# Saída: 4\n",
    "\n",
    "# Divisão\n",
    "6 / 2\n",
    "# Saída: 3\n",
    "\n",
    "# Multiplicação\n",
    "6 * 2\n",
    "# Saída: 12"
   ]
  },
  {
   "cell_type": "code",
   "execution_count": 12,
   "metadata": {},
   "outputs": [
    {
     "data": {
      "text/plain": [
       "1"
      ]
     },
     "execution_count": 12,
     "metadata": {},
     "output_type": "execute_result"
    }
   ],
   "source": [
    "# Módulo (Resto da divisão)\n",
    "10%3"
   ]
  },
  {
   "cell_type": "code",
   "execution_count": 13,
   "metadata": {},
   "outputs": [
    {
     "data": {
      "text/plain": [
       "float"
      ]
     },
     "execution_count": 13,
     "metadata": {},
     "output_type": "execute_result"
    }
   ],
   "source": [
    "# Função Type - Para saber o tipo de dado\n",
    "type(5)\n",
    "# Saida int\n",
    "type(5.0)"
   ]
  },
  {
   "cell_type": "code",
   "execution_count": 14,
   "metadata": {},
   "outputs": [
    {
     "data": {
      "text/plain": [
       "str"
      ]
     },
     "execution_count": 14,
     "metadata": {},
     "output_type": "execute_result"
    }
   ],
   "source": [
    "a= \"Estou estudando Data Science na DSA\"\n",
    "type(a)"
   ]
  },
  {
   "cell_type": "code",
   "execution_count": 15,
   "metadata": {},
   "outputs": [
    {
     "name": "stdout",
     "output_type": "stream",
     "text": [
      "9.5 <class 'float'>\n"
     ]
    }
   ],
   "source": [
    "# Se for realizada a soma entre dois números float:\n",
    "a= 3.1 + 6.4\n",
    "print(a, type(a))"
   ]
  },
  {
   "cell_type": "code",
   "execution_count": 16,
   "metadata": {},
   "outputs": [
    {
     "name": "stdout",
     "output_type": "stream",
     "text": [
      "8.0 <class 'float'>\n"
     ]
    }
   ],
   "source": [
    "# Se for realizada a soma entre um número inteiro e outro float:\n",
    "a= 4 + 4.0\n",
    "print(a, type(a)) # Retornará um número float"
   ]
  },
  {
   "cell_type": "code",
   "execution_count": 17,
   "metadata": {},
   "outputs": [
    {
     "name": "stdout",
     "output_type": "stream",
     "text": [
      "8 <class 'int'>\n"
     ]
    }
   ],
   "source": [
    "# Se for realizada a soma entre dois números inteiros:\n",
    "a= 4 + 4\n",
    "print(a, type(a)) # Retornará um número inteiro"
   ]
  },
  {
   "cell_type": "code",
   "execution_count": 18,
   "metadata": {},
   "outputs": [
    {
     "name": "stdout",
     "output_type": "stream",
     "text": [
      "2.0 <class 'float'>\n"
     ]
    }
   ],
   "source": [
    "# Se for realizada a divisão entre dois números inteiros:\n",
    "a= 4 / 2 \n",
    "print(a, type(a)) # Retornará um número float"
   ]
  },
  {
   "cell_type": "code",
   "execution_count": 19,
   "metadata": {},
   "outputs": [
    {
     "name": "stdout",
     "output_type": "stream",
     "text": [
      "2 <class 'int'>\n"
     ]
    }
   ],
   "source": [
    "# Se for realizada a divisão com (//) entre dois números inteiros:\n",
    "a= 4 // 2 \n",
    "print(a, type(a)) # Retornará um número inteiro"
   ]
  },
  {
   "cell_type": "code",
   "execution_count": 20,
   "metadata": {},
   "outputs": [
    {
     "name": "stdout",
     "output_type": "stream",
     "text": [
      "2.0 <class 'float'>\n"
     ]
    }
   ],
   "source": [
    "# Se for realizada a divisão com (//) entre um número inteiro e outro float:\n",
    "a= 4 // 2.0\n",
    "print(a, type(a)) # Retornará um número float"
   ]
  },
  {
   "cell_type": "markdown",
   "metadata": {},
   "source": [
    "### Podemos também converter os número"
   ]
  },
  {
   "cell_type": "code",
   "execution_count": 21,
   "metadata": {},
   "outputs": [
    {
     "name": "stdout",
     "output_type": "stream",
     "text": [
      "6 5.0\n"
     ]
    }
   ],
   "source": [
    "a= int(6.7) # Quando fazemos essa conversão ele despreza totalmente a parte decimal\n",
    "b= float(5)\n",
    "print(a,b)"
   ]
  },
  {
   "cell_type": "markdown",
   "metadata": {},
   "source": [
    "### Hexadecimal e Binário \n",
    "São outras bases númericas"
   ]
  },
  {
   "cell_type": "code",
   "execution_count": 22,
   "metadata": {},
   "outputs": [
    {
     "name": "stdout",
     "output_type": "stream",
     "text": [
      "hex1: 0x18a hex2: 0xd9 \n",
      "bin1: 0b100011110 bin2: 0b110000110\n"
     ]
    }
   ],
   "source": [
    "hex1 = hex(394)\n",
    "hex2 = hex(217)\n",
    "bin1 = bin(286)\n",
    "bin2 = bin(390)\n",
    "print(f\"hex1: {hex1} hex2: {hex2} \\nbin1: {bin1} bin2: {bin2}\")"
   ]
  },
  {
   "cell_type": "markdown",
   "metadata": {},
   "source": [
    "### Funções abs, round e pow\n",
    "abs = Retorna valor absoluto de um número.  Como se fosse o módulo |n|\n",
    "\n",
    "pow = Potência\n",
    "\n",
    "round = Retorna o valor com o número definido de casas decimais  "
   ]
  },
  {
   "cell_type": "code",
   "execution_count": 23,
   "metadata": {},
   "outputs": [
    {
     "data": {
      "text/plain": [
       "8"
      ]
     },
     "execution_count": 23,
     "metadata": {},
     "output_type": "execute_result"
    }
   ],
   "source": [
    "# Retorna o valor absoluto no caso 8\n",
    "abs(-8)"
   ]
  },
  {
   "cell_type": "code",
   "execution_count": 24,
   "metadata": {},
   "outputs": [
    {
     "data": {
      "text/plain": [
       "25"
      ]
     },
     "execution_count": 24,
     "metadata": {},
     "output_type": "execute_result"
    }
   ],
   "source": [
    "# Retirna o valor da potÊncia no caso 25\n",
    "pow(5,2)"
   ]
  },
  {
   "cell_type": "code",
   "execution_count": 27,
   "metadata": {},
   "outputs": [
    {
     "data": {
      "text/plain": [
       "3.14"
      ]
     },
     "execution_count": 27,
     "metadata": {},
     "output_type": "execute_result"
    }
   ],
   "source": [
    "# Retorna o valor com duas casas decimais 3.14\n",
    "round(3.14151922, 2)\n",
    "# round(número decimal, número de casas decimais desejadas)"
   ]
  }
 ],
 "metadata": {
  "kernelspec": {
   "display_name": "Python 3",
   "language": "python",
   "name": "python3"
  },
  "language_info": {
   "codemirror_mode": {
    "name": "ipython",
    "version": 3
   },
   "file_extension": ".py",
   "mimetype": "text/x-python",
   "name": "python",
   "nbconvert_exporter": "python",
   "pygments_lexer": "ipython3",
   "version": "3.11.4"
  }
 },
 "nbformat": 4,
 "nbformat_minor": 2
}
