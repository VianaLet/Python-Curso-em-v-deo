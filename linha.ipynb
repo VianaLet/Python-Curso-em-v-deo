{
 "cells": [
  {
   "cell_type": "code",
   "execution_count": 1,
   "metadata": {},
   "outputs": [
    {
     "name": "stdout",
     "output_type": "stream",
     "text": [
      "50 20\n"
     ]
    }
   ],
   "source": [
    "produto_x = input(\"Qual é o produto x? \")\n",
    "px = float(input(f\"Informe o preço do(a) {produto_x}: \"))\n",
    "produto_y = input(\"Qual é o produto y? \")\n",
    "py = float(input(f\"Informe o preço do(a) {produto_y}: \"))\n",
    "renda= float(input(\"Qual sua renda? \"))\n",
    "maxqtd_x = int(renda/px)\n",
    "maxqtd_y = int(renda/py)\n",
    "lista_qtd_x = []\n",
    "lista_qtd_y = []\n",
    "total = 0\n",
    "print(maxqtd_x, maxqtd_y)\n",
    "for i in range (maxqtd_x):\n",
    "    for j in range (maxqtd_x):\n",
    "        qtd_x = i\n",
    "        qtd_y = j\n",
    "        total = px*qtd_x + py*qtd_y\n",
    "        if (total == 100):\n",
    "            lista_qtd_x.append(qtd_x)\n",
    "            lista_qtd_y.append(qtd_y)"
   ]
  },
  {
   "cell_type": "code",
   "execution_count": 2,
   "metadata": {},
   "outputs": [
    {
     "data": {
      "text/plain": [
       "[0, 5, 10, 15, 20, 25, 30, 35, 40, 45]"
      ]
     },
     "metadata": {},
     "output_type": "display_data"
    },
    {
     "data": {
      "text/plain": [
       "[20, 18, 16, 14, 12, 10, 8, 6, 4, 2]"
      ]
     },
     "metadata": {},
     "output_type": "display_data"
    }
   ],
   "source": [
    "display(lista_qtd_x, lista_qtd_y)"
   ]
  }
 ],
 "metadata": {
  "kernelspec": {
   "display_name": "Python 3",
   "language": "python",
   "name": "python3"
  },
  "language_info": {
   "codemirror_mode": {
    "name": "ipython",
    "version": 3
   },
   "file_extension": ".py",
   "mimetype": "text/x-python",
   "name": "python",
   "nbconvert_exporter": "python",
   "pygments_lexer": "ipython3",
   "version": "3.11.4"
  }
 },
 "nbformat": 4,
 "nbformat_minor": 2
}
