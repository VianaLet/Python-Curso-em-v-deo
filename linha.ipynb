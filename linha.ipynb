{
 "cells": [
  {
   "cell_type": "code",
   "execution_count": null,
   "metadata": {},
   "outputs": [],
   "source": [
    "produto_x = input(\"Qual é o produto x? \")  # Só para estética mesmo, o usuário saber de qual produto estamos nos referindo\n",
    "px = float(input(f\"Informe o preço do(a) {produto_x}: \"))\n",
    "produto_y = input(\"Qual é o produto y? \")\n",
    "py = float(input(f\"Informe o preço do(a) {produto_y}: \"))\n",
    "renda= float(input(\"Qual sua renda? \"))\n",
    "maxqtd_x = int(renda/px)\n",
    "maxqtd_y = int(renda/py)\n",
    "lista_qtd_x = []\n",
    "lista_qtd_y = []\n",
    "total = 0\n",
    "print(maxqtd_x, maxqtd_y)\n",
    "if (maxqtd_x > maxqtd_y):          # Fazendo uma pequena validação, pois se o maxqtd de y for maior o resultado final seria errado\n",
    "    for i in range (maxqtd_x + 1):\n",
    "        for j in range (maxqtd_x + 1):    # Aqui vamos fazer os calculos com todos os números até \n",
    "            qtd_x = i                     # Chegar na máxima de x +1(pois o range vai até < maxqtd), calculamos anteriormente para\n",
    "            qtd_y = j                     # Não precisar colocar o for com números imensos  \n",
    "            total = px*qtd_x + py*qtd_y\n",
    "            if (total == renda):            # Selecionando o limite, que é a renda do consumidor\n",
    "                lista_qtd_x.append(qtd_x)   # Estamos fazendo uma seleção dessas quantidades à serem\n",
    "                lista_qtd_y.append(qtd_y)   # inseridas nas listas, para então podermos vizualizá-las\n",
    "                print(f\"Preço {produto_x}: {px} Quantidade: {lista_qtd_x}\")\n",
    "                print(f\"Preço {produto_y}: {py} Quantidade: {lista_qtd_y}\\n  Total: {total}\")\n",
    "else:\n",
    "    for i in range (maxqtd_y + 1):\n",
    "        for j in range (maxqtd_y + 1):    # Aqui vamos fazer os calculos com todos os números até \n",
    "            qtd_x = i                     # Chegar na máxima de y +1(pois o range vai até < maxqtd), calculamos anteriormente para\n",
    "            qtd_y = j                     # Não precisar colocar o for com números imensos  \n",
    "            total = px*qtd_x + py*qtd_y\n",
    "            if (total == renda):            # Selecionando o limite, que é a renda do consumidor\n",
    "                lista_qtd_x.append(qtd_x)   # Estamos fazendo uma seleção dessas quantidades à serem\n",
    "                lista_qtd_y.append(qtd_y)   # inseridas nas listas, para então podermos vizualizá-las\n",
    "                print(f\"Preço {produto_x}: {px} Quantidade: {lista_qtd_x}\")\n",
    "                print(f\"Preço {produto_y}: {py} Quantidade: {lista_qtd_y}\\n  Total: {total}\")"
   ]
  },
  {
   "cell_type": "code",
   "execution_count": 20,
   "metadata": {},
   "outputs": [],
   "source": [
    "import plotly.express as px\n",
    "def fronteira ():\n",
    "    produto_x = input(\"Qual é o produto x? \")  # Só para estética mesmo, o usuário saber de qual produto estamos nos referindo\n",
    "    preco_x = float(input(f\"Informe o preço do(a) {produto_x}: \"))\n",
    "    produto_y = input(\"Qual é o produto y? \")\n",
    "    preco_y = float(input(f\"Informe o preço do(a) {produto_y}: \"))\n",
    "    renda= float(input(\"Qual sua renda? \"))\n",
    "    maxqtd_x = int(renda/preco_x)\n",
    "    maxqtd_y = int(renda/preco_y)\n",
    "    eixo_x = []\n",
    "    eixo_y = []\n",
    "    total = 0\n",
    "    # print(maxqtd_x, maxqtd_y)\n",
    "    if (maxqtd_x > maxqtd_y):          # Fazendo uma pequena validação, pois se o maxqtd de y for maior o resultado final seria errado\n",
    "        for i in range (maxqtd_x + 1):\n",
    "            for j in range (maxqtd_x + 1):    # Aqui vamos fazer os calculos com todos os números até \n",
    "                qtd_x = i                     # Chegar na máxima de x +1(pois o range vai até < maxqtd), calculamos anteriormente para\n",
    "                qtd_y = j                     # Não precisar colocar o for com números imensos  \n",
    "                total = preco_x*qtd_x + preco_y*qtd_y\n",
    "                if (total == renda):            # Selecionando o limite, que é a renda do consumidor\n",
    "                    eixo_x.append(qtd_x)   # Estamos fazendo uma seleção dessas quantidades à serem\n",
    "                    eixo_y.append(qtd_y)   # inseridas nas listas, para então podermos vizualizá-las\n",
    "                    \n",
    "                    # print(f\"Preço {produto_x}: {preco_x} Quantidade: {eixo_x}\")\n",
    "                    # print(f\"Preço {produto_y}: {preco_y} Quantidade: {eixo_y}\\n  Total: {total}\")\n",
    "\n",
    "    else:\n",
    "        for i in range (maxqtd_y + 1):\n",
    "            for j in range (maxqtd_y + 1):    # Aqui vamos fazer os calculos com todos os números até \n",
    "                qtd_x = i                     # Chegar na máxima de y +1(pois o range vai até < maxqtd), calculamos anteriormente para\n",
    "                qtd_y = j                     # Não precisar colocar o for com números imensos  \n",
    "                total = preco_x*qtd_x + preco_y*qtd_y\n",
    "                if (total == renda):            # Selecionando o limite, que é a renda do consumidor\n",
    "                    eixo_x.append(qtd_x)   # Estamos fazendo uma seleção dessas quantidades à serem\n",
    "                    eixo_y.append(qtd_y)   # inseridas nas listas, para então podermos vizualizá-las\n",
    "                    \n",
    "                    # print(f\"Preço {produto_x}: {preco_x} Quantidade: {eixo_x}\")\n",
    "                    # print(f\"Preço {produto_y}: {preco_y} Quantidade: {eixo_y}\\n  Total: {total}\")\n",
    "                    \n",
    "    fig = px.line(x=eixo_x, y=eixo_y, title=\"Fronteira da linha de orçamento\")\n",
    "    fig.show()\n"
   ]
  },
  {
   "cell_type": "code",
   "execution_count": 21,
   "metadata": {},
   "outputs": [
    {
     "data": {
      "application/vnd.plotly.v1+json": {
       "config": {
        "plotlyServerURL": "https://plot.ly"
       },
       "data": [
        {
         "hovertemplate": "x=%{x}<br>y=%{y}<extra></extra>",
         "legendgroup": "",
         "line": {
          "color": "#636efa",
          "dash": "solid"
         },
         "marker": {
          "symbol": "circle"
         },
         "mode": "lines",
         "name": "",
         "orientation": "v",
         "showlegend": false,
         "type": "scatter",
         "x": [
          0,
          5,
          10,
          15,
          20,
          25,
          30,
          35,
          40,
          45,
          50
         ],
         "xaxis": "x",
         "y": [
          20,
          18,
          16,
          14,
          12,
          10,
          8,
          6,
          4,
          2,
          0
         ],
         "yaxis": "y"
        }
       ],
       "layout": {
        "legend": {
         "tracegroupgap": 0
        },
        "template": {
         "data": {
          "bar": [
           {
            "error_x": {
             "color": "#2a3f5f"
            },
            "error_y": {
             "color": "#2a3f5f"
            },
            "marker": {
             "line": {
              "color": "#E5ECF6",
              "width": 0.5
             },
             "pattern": {
              "fillmode": "overlay",
              "size": 10,
              "solidity": 0.2
             }
            },
            "type": "bar"
           }
          ],
          "barpolar": [
           {
            "marker": {
             "line": {
              "color": "#E5ECF6",
              "width": 0.5
             },
             "pattern": {
              "fillmode": "overlay",
              "size": 10,
              "solidity": 0.2
             }
            },
            "type": "barpolar"
           }
          ],
          "carpet": [
           {
            "aaxis": {
             "endlinecolor": "#2a3f5f",
             "gridcolor": "white",
             "linecolor": "white",
             "minorgridcolor": "white",
             "startlinecolor": "#2a3f5f"
            },
            "baxis": {
             "endlinecolor": "#2a3f5f",
             "gridcolor": "white",
             "linecolor": "white",
             "minorgridcolor": "white",
             "startlinecolor": "#2a3f5f"
            },
            "type": "carpet"
           }
          ],
          "choropleth": [
           {
            "colorbar": {
             "outlinewidth": 0,
             "ticks": ""
            },
            "type": "choropleth"
           }
          ],
          "contour": [
           {
            "colorbar": {
             "outlinewidth": 0,
             "ticks": ""
            },
            "colorscale": [
             [
              0,
              "#0d0887"
             ],
             [
              0.1111111111111111,
              "#46039f"
             ],
             [
              0.2222222222222222,
              "#7201a8"
             ],
             [
              0.3333333333333333,
              "#9c179e"
             ],
             [
              0.4444444444444444,
              "#bd3786"
             ],
             [
              0.5555555555555556,
              "#d8576b"
             ],
             [
              0.6666666666666666,
              "#ed7953"
             ],
             [
              0.7777777777777778,
              "#fb9f3a"
             ],
             [
              0.8888888888888888,
              "#fdca26"
             ],
             [
              1,
              "#f0f921"
             ]
            ],
            "type": "contour"
           }
          ],
          "contourcarpet": [
           {
            "colorbar": {
             "outlinewidth": 0,
             "ticks": ""
            },
            "type": "contourcarpet"
           }
          ],
          "heatmap": [
           {
            "colorbar": {
             "outlinewidth": 0,
             "ticks": ""
            },
            "colorscale": [
             [
              0,
              "#0d0887"
             ],
             [
              0.1111111111111111,
              "#46039f"
             ],
             [
              0.2222222222222222,
              "#7201a8"
             ],
             [
              0.3333333333333333,
              "#9c179e"
             ],
             [
              0.4444444444444444,
              "#bd3786"
             ],
             [
              0.5555555555555556,
              "#d8576b"
             ],
             [
              0.6666666666666666,
              "#ed7953"
             ],
             [
              0.7777777777777778,
              "#fb9f3a"
             ],
             [
              0.8888888888888888,
              "#fdca26"
             ],
             [
              1,
              "#f0f921"
             ]
            ],
            "type": "heatmap"
           }
          ],
          "heatmapgl": [
           {
            "colorbar": {
             "outlinewidth": 0,
             "ticks": ""
            },
            "colorscale": [
             [
              0,
              "#0d0887"
             ],
             [
              0.1111111111111111,
              "#46039f"
             ],
             [
              0.2222222222222222,
              "#7201a8"
             ],
             [
              0.3333333333333333,
              "#9c179e"
             ],
             [
              0.4444444444444444,
              "#bd3786"
             ],
             [
              0.5555555555555556,
              "#d8576b"
             ],
             [
              0.6666666666666666,
              "#ed7953"
             ],
             [
              0.7777777777777778,
              "#fb9f3a"
             ],
             [
              0.8888888888888888,
              "#fdca26"
             ],
             [
              1,
              "#f0f921"
             ]
            ],
            "type": "heatmapgl"
           }
          ],
          "histogram": [
           {
            "marker": {
             "pattern": {
              "fillmode": "overlay",
              "size": 10,
              "solidity": 0.2
             }
            },
            "type": "histogram"
           }
          ],
          "histogram2d": [
           {
            "colorbar": {
             "outlinewidth": 0,
             "ticks": ""
            },
            "colorscale": [
             [
              0,
              "#0d0887"
             ],
             [
              0.1111111111111111,
              "#46039f"
             ],
             [
              0.2222222222222222,
              "#7201a8"
             ],
             [
              0.3333333333333333,
              "#9c179e"
             ],
             [
              0.4444444444444444,
              "#bd3786"
             ],
             [
              0.5555555555555556,
              "#d8576b"
             ],
             [
              0.6666666666666666,
              "#ed7953"
             ],
             [
              0.7777777777777778,
              "#fb9f3a"
             ],
             [
              0.8888888888888888,
              "#fdca26"
             ],
             [
              1,
              "#f0f921"
             ]
            ],
            "type": "histogram2d"
           }
          ],
          "histogram2dcontour": [
           {
            "colorbar": {
             "outlinewidth": 0,
             "ticks": ""
            },
            "colorscale": [
             [
              0,
              "#0d0887"
             ],
             [
              0.1111111111111111,
              "#46039f"
             ],
             [
              0.2222222222222222,
              "#7201a8"
             ],
             [
              0.3333333333333333,
              "#9c179e"
             ],
             [
              0.4444444444444444,
              "#bd3786"
             ],
             [
              0.5555555555555556,
              "#d8576b"
             ],
             [
              0.6666666666666666,
              "#ed7953"
             ],
             [
              0.7777777777777778,
              "#fb9f3a"
             ],
             [
              0.8888888888888888,
              "#fdca26"
             ],
             [
              1,
              "#f0f921"
             ]
            ],
            "type": "histogram2dcontour"
           }
          ],
          "mesh3d": [
           {
            "colorbar": {
             "outlinewidth": 0,
             "ticks": ""
            },
            "type": "mesh3d"
           }
          ],
          "parcoords": [
           {
            "line": {
             "colorbar": {
              "outlinewidth": 0,
              "ticks": ""
             }
            },
            "type": "parcoords"
           }
          ],
          "pie": [
           {
            "automargin": true,
            "type": "pie"
           }
          ],
          "scatter": [
           {
            "fillpattern": {
             "fillmode": "overlay",
             "size": 10,
             "solidity": 0.2
            },
            "type": "scatter"
           }
          ],
          "scatter3d": [
           {
            "line": {
             "colorbar": {
              "outlinewidth": 0,
              "ticks": ""
             }
            },
            "marker": {
             "colorbar": {
              "outlinewidth": 0,
              "ticks": ""
             }
            },
            "type": "scatter3d"
           }
          ],
          "scattercarpet": [
           {
            "marker": {
             "colorbar": {
              "outlinewidth": 0,
              "ticks": ""
             }
            },
            "type": "scattercarpet"
           }
          ],
          "scattergeo": [
           {
            "marker": {
             "colorbar": {
              "outlinewidth": 0,
              "ticks": ""
             }
            },
            "type": "scattergeo"
           }
          ],
          "scattergl": [
           {
            "marker": {
             "colorbar": {
              "outlinewidth": 0,
              "ticks": ""
             }
            },
            "type": "scattergl"
           }
          ],
          "scattermapbox": [
           {
            "marker": {
             "colorbar": {
              "outlinewidth": 0,
              "ticks": ""
             }
            },
            "type": "scattermapbox"
           }
          ],
          "scatterpolar": [
           {
            "marker": {
             "colorbar": {
              "outlinewidth": 0,
              "ticks": ""
             }
            },
            "type": "scatterpolar"
           }
          ],
          "scatterpolargl": [
           {
            "marker": {
             "colorbar": {
              "outlinewidth": 0,
              "ticks": ""
             }
            },
            "type": "scatterpolargl"
           }
          ],
          "scatterternary": [
           {
            "marker": {
             "colorbar": {
              "outlinewidth": 0,
              "ticks": ""
             }
            },
            "type": "scatterternary"
           }
          ],
          "surface": [
           {
            "colorbar": {
             "outlinewidth": 0,
             "ticks": ""
            },
            "colorscale": [
             [
              0,
              "#0d0887"
             ],
             [
              0.1111111111111111,
              "#46039f"
             ],
             [
              0.2222222222222222,
              "#7201a8"
             ],
             [
              0.3333333333333333,
              "#9c179e"
             ],
             [
              0.4444444444444444,
              "#bd3786"
             ],
             [
              0.5555555555555556,
              "#d8576b"
             ],
             [
              0.6666666666666666,
              "#ed7953"
             ],
             [
              0.7777777777777778,
              "#fb9f3a"
             ],
             [
              0.8888888888888888,
              "#fdca26"
             ],
             [
              1,
              "#f0f921"
             ]
            ],
            "type": "surface"
           }
          ],
          "table": [
           {
            "cells": {
             "fill": {
              "color": "#EBF0F8"
             },
             "line": {
              "color": "white"
             }
            },
            "header": {
             "fill": {
              "color": "#C8D4E3"
             },
             "line": {
              "color": "white"
             }
            },
            "type": "table"
           }
          ]
         },
         "layout": {
          "annotationdefaults": {
           "arrowcolor": "#2a3f5f",
           "arrowhead": 0,
           "arrowwidth": 1
          },
          "autotypenumbers": "strict",
          "coloraxis": {
           "colorbar": {
            "outlinewidth": 0,
            "ticks": ""
           }
          },
          "colorscale": {
           "diverging": [
            [
             0,
             "#8e0152"
            ],
            [
             0.1,
             "#c51b7d"
            ],
            [
             0.2,
             "#de77ae"
            ],
            [
             0.3,
             "#f1b6da"
            ],
            [
             0.4,
             "#fde0ef"
            ],
            [
             0.5,
             "#f7f7f7"
            ],
            [
             0.6,
             "#e6f5d0"
            ],
            [
             0.7,
             "#b8e186"
            ],
            [
             0.8,
             "#7fbc41"
            ],
            [
             0.9,
             "#4d9221"
            ],
            [
             1,
             "#276419"
            ]
           ],
           "sequential": [
            [
             0,
             "#0d0887"
            ],
            [
             0.1111111111111111,
             "#46039f"
            ],
            [
             0.2222222222222222,
             "#7201a8"
            ],
            [
             0.3333333333333333,
             "#9c179e"
            ],
            [
             0.4444444444444444,
             "#bd3786"
            ],
            [
             0.5555555555555556,
             "#d8576b"
            ],
            [
             0.6666666666666666,
             "#ed7953"
            ],
            [
             0.7777777777777778,
             "#fb9f3a"
            ],
            [
             0.8888888888888888,
             "#fdca26"
            ],
            [
             1,
             "#f0f921"
            ]
           ],
           "sequentialminus": [
            [
             0,
             "#0d0887"
            ],
            [
             0.1111111111111111,
             "#46039f"
            ],
            [
             0.2222222222222222,
             "#7201a8"
            ],
            [
             0.3333333333333333,
             "#9c179e"
            ],
            [
             0.4444444444444444,
             "#bd3786"
            ],
            [
             0.5555555555555556,
             "#d8576b"
            ],
            [
             0.6666666666666666,
             "#ed7953"
            ],
            [
             0.7777777777777778,
             "#fb9f3a"
            ],
            [
             0.8888888888888888,
             "#fdca26"
            ],
            [
             1,
             "#f0f921"
            ]
           ]
          },
          "colorway": [
           "#636efa",
           "#EF553B",
           "#00cc96",
           "#ab63fa",
           "#FFA15A",
           "#19d3f3",
           "#FF6692",
           "#B6E880",
           "#FF97FF",
           "#FECB52"
          ],
          "font": {
           "color": "#2a3f5f"
          },
          "geo": {
           "bgcolor": "white",
           "lakecolor": "white",
           "landcolor": "#E5ECF6",
           "showlakes": true,
           "showland": true,
           "subunitcolor": "white"
          },
          "hoverlabel": {
           "align": "left"
          },
          "hovermode": "closest",
          "mapbox": {
           "style": "light"
          },
          "paper_bgcolor": "white",
          "plot_bgcolor": "#E5ECF6",
          "polar": {
           "angularaxis": {
            "gridcolor": "white",
            "linecolor": "white",
            "ticks": ""
           },
           "bgcolor": "#E5ECF6",
           "radialaxis": {
            "gridcolor": "white",
            "linecolor": "white",
            "ticks": ""
           }
          },
          "scene": {
           "xaxis": {
            "backgroundcolor": "#E5ECF6",
            "gridcolor": "white",
            "gridwidth": 2,
            "linecolor": "white",
            "showbackground": true,
            "ticks": "",
            "zerolinecolor": "white"
           },
           "yaxis": {
            "backgroundcolor": "#E5ECF6",
            "gridcolor": "white",
            "gridwidth": 2,
            "linecolor": "white",
            "showbackground": true,
            "ticks": "",
            "zerolinecolor": "white"
           },
           "zaxis": {
            "backgroundcolor": "#E5ECF6",
            "gridcolor": "white",
            "gridwidth": 2,
            "linecolor": "white",
            "showbackground": true,
            "ticks": "",
            "zerolinecolor": "white"
           }
          },
          "shapedefaults": {
           "line": {
            "color": "#2a3f5f"
           }
          },
          "ternary": {
           "aaxis": {
            "gridcolor": "white",
            "linecolor": "white",
            "ticks": ""
           },
           "baxis": {
            "gridcolor": "white",
            "linecolor": "white",
            "ticks": ""
           },
           "bgcolor": "#E5ECF6",
           "caxis": {
            "gridcolor": "white",
            "linecolor": "white",
            "ticks": ""
           }
          },
          "title": {
           "x": 0.05
          },
          "xaxis": {
           "automargin": true,
           "gridcolor": "white",
           "linecolor": "white",
           "ticks": "",
           "title": {
            "standoff": 15
           },
           "zerolinecolor": "white",
           "zerolinewidth": 2
          },
          "yaxis": {
           "automargin": true,
           "gridcolor": "white",
           "linecolor": "white",
           "ticks": "",
           "title": {
            "standoff": 15
           },
           "zerolinecolor": "white",
           "zerolinewidth": 2
          }
         }
        },
        "title": {
         "text": "Fronteira da linha de orçamento"
        },
        "xaxis": {
         "anchor": "y",
         "domain": [
          0,
          1
         ],
         "title": {
          "text": "x"
         }
        },
        "yaxis": {
         "anchor": "x",
         "domain": [
          0,
          1
         ],
         "title": {
          "text": "y"
         }
        }
       }
      }
     },
     "metadata": {},
     "output_type": "display_data"
    },
    {
     "ename": "ValueError",
     "evalue": "could not convert string to float: ''",
     "output_type": "error",
     "traceback": [
      "\u001b[1;31m---------------------------------------------------------------------------\u001b[0m",
      "\u001b[1;31mValueError\u001b[0m                                Traceback (most recent call last)",
      "\u001b[1;32mc:\\Users\\letic\\OneDrive\\Área de Trabalho\\Python IDLE-Curso em vídeo\\Python\\linha.ipynb Cell 3\u001b[0m line \u001b[0;36m5\n\u001b[0;32m      <a href='vscode-notebook-cell:/c%3A/Users/letic/OneDrive/%C3%81rea%20de%20Trabalho/Python%20IDLE-Curso%20em%20v%C3%ADdeo/Python/linha.ipynb#X10sZmlsZQ%3D%3D?line=1'>2</a>\u001b[0m fronteira()\n\u001b[0;32m      <a href='vscode-notebook-cell:/c%3A/Users/letic/OneDrive/%C3%81rea%20de%20Trabalho/Python%20IDLE-Curso%20em%20v%C3%ADdeo/Python/linha.ipynb#X10sZmlsZQ%3D%3D?line=3'>4</a>\u001b[0m \u001b[39m# Gráfico 2\u001b[39;00m\n\u001b[1;32m----> <a href='vscode-notebook-cell:/c%3A/Users/letic/OneDrive/%C3%81rea%20de%20Trabalho/Python%20IDLE-Curso%20em%20v%C3%ADdeo/Python/linha.ipynb#X10sZmlsZQ%3D%3D?line=4'>5</a>\u001b[0m fronteira()\n",
      "\u001b[1;32mc:\\Users\\letic\\OneDrive\\Área de Trabalho\\Python IDLE-Curso em vídeo\\Python\\linha.ipynb Cell 3\u001b[0m line \u001b[0;36m4\n\u001b[0;32m      <a href='vscode-notebook-cell:/c%3A/Users/letic/OneDrive/%C3%81rea%20de%20Trabalho/Python%20IDLE-Curso%20em%20v%C3%ADdeo/Python/linha.ipynb#X10sZmlsZQ%3D%3D?line=1'>2</a>\u001b[0m \u001b[39mdef\u001b[39;00m \u001b[39mfronteira\u001b[39m ():\n\u001b[0;32m      <a href='vscode-notebook-cell:/c%3A/Users/letic/OneDrive/%C3%81rea%20de%20Trabalho/Python%20IDLE-Curso%20em%20v%C3%ADdeo/Python/linha.ipynb#X10sZmlsZQ%3D%3D?line=2'>3</a>\u001b[0m     produto_x \u001b[39m=\u001b[39m \u001b[39minput\u001b[39m(\u001b[39m\"\u001b[39m\u001b[39mQual é o produto x? \u001b[39m\u001b[39m\"\u001b[39m)  \u001b[39m# Só para estética mesmo, o usuário saber de qual produto estamos nos referindo\u001b[39;00m\n\u001b[1;32m----> <a href='vscode-notebook-cell:/c%3A/Users/letic/OneDrive/%C3%81rea%20de%20Trabalho/Python%20IDLE-Curso%20em%20v%C3%ADdeo/Python/linha.ipynb#X10sZmlsZQ%3D%3D?line=3'>4</a>\u001b[0m     preco_x \u001b[39m=\u001b[39m \u001b[39mfloat\u001b[39m(\u001b[39minput\u001b[39m(\u001b[39mf\u001b[39m\u001b[39m\"\u001b[39m\u001b[39mInforme o preço do(a) \u001b[39m\u001b[39m{\u001b[39;00mproduto_x\u001b[39m}\u001b[39;00m\u001b[39m: \u001b[39m\u001b[39m\"\u001b[39m))\n\u001b[0;32m      <a href='vscode-notebook-cell:/c%3A/Users/letic/OneDrive/%C3%81rea%20de%20Trabalho/Python%20IDLE-Curso%20em%20v%C3%ADdeo/Python/linha.ipynb#X10sZmlsZQ%3D%3D?line=4'>5</a>\u001b[0m     produto_y \u001b[39m=\u001b[39m \u001b[39minput\u001b[39m(\u001b[39m\"\u001b[39m\u001b[39mQual é o produto y? \u001b[39m\u001b[39m\"\u001b[39m)\n\u001b[0;32m      <a href='vscode-notebook-cell:/c%3A/Users/letic/OneDrive/%C3%81rea%20de%20Trabalho/Python%20IDLE-Curso%20em%20v%C3%ADdeo/Python/linha.ipynb#X10sZmlsZQ%3D%3D?line=5'>6</a>\u001b[0m     preco_y \u001b[39m=\u001b[39m \u001b[39mfloat\u001b[39m(\u001b[39minput\u001b[39m(\u001b[39mf\u001b[39m\u001b[39m\"\u001b[39m\u001b[39mInforme o preço do(a) \u001b[39m\u001b[39m{\u001b[39;00mproduto_y\u001b[39m}\u001b[39;00m\u001b[39m: \u001b[39m\u001b[39m\"\u001b[39m))\n",
      "\u001b[1;31mValueError\u001b[0m: could not convert string to float: ''"
     ]
    }
   ],
   "source": [
    "# Gráfico 1\n",
    "fronteira()\n",
    "\n",
    "# Gráfico 2\n",
    "fronteira()"
   ]
  }
 ],
 "metadata": {
  "kernelspec": {
   "display_name": "Python 3",
   "language": "python",
   "name": "python3"
  },
  "language_info": {
   "codemirror_mode": {
    "name": "ipython",
    "version": 3
   },
   "file_extension": ".py",
   "mimetype": "text/x-python",
   "name": "python",
   "nbconvert_exporter": "python",
   "pygments_lexer": "ipython3",
   "version": "3.11.4"
  }
 },
 "nbformat": 4,
 "nbformat_minor": 2
}
